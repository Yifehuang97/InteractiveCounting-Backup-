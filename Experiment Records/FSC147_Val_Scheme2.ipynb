{
  "nbformat": 4,
  "nbformat_minor": 0,
  "metadata": {
    "accelerator": "GPU",
    "colab": {
      "name": "FSC147 Val Scheme2",
      "provenance": [],
      "collapsed_sections": []
    },
    "kernelspec": {
      "display_name": "Python 3",
      "name": "python3"
    },
    "language_info": {
      "name": "python"
    }
  },
  "cells": [
    {
      "cell_type": "code",
      "metadata": {
        "colab": {
          "base_uri": "https://localhost:8080/"
        },
        "id": "0Y4DR-1mFMm_",
        "outputId": "449c283c-5527-4497-c5aa-e4cbc030a510"
      },
      "source": [
        "!/opt/bin/nvidia-smi"
      ],
      "execution_count": null,
      "outputs": [
        {
          "output_type": "stream",
          "name": "stdout",
          "text": [
            "Tue Oct 26 21:32:51 2021       \n",
            "+-----------------------------------------------------------------------------+\n",
            "| NVIDIA-SMI 460.32.03    Driver Version: 460.32.03    CUDA Version: 11.2     |\n",
            "|-------------------------------+----------------------+----------------------+\n",
            "| GPU  Name        Persistence-M| Bus-Id        Disp.A | Volatile Uncorr. ECC |\n",
            "| Fan  Temp  Perf  Pwr:Usage/Cap|         Memory-Usage | GPU-Util  Compute M. |\n",
            "|                               |                      |               MIG M. |\n",
            "|===============================+======================+======================|\n",
            "|   0  Tesla V100-SXM2...  Off  | 00000000:00:04.0 Off |                    0 |\n",
            "| N/A   35C    P0    37W / 300W |  12223MiB / 16160MiB |      0%      Default |\n",
            "|                               |                      |                  N/A |\n",
            "+-------------------------------+----------------------+----------------------+\n",
            "                                                                               \n",
            "+-----------------------------------------------------------------------------+\n",
            "| Processes:                                                                  |\n",
            "|  GPU   GI   CI        PID   Type   Process name                  GPU Memory |\n",
            "|        ID   ID                                                   Usage      |\n",
            "|=============================================================================|\n",
            "+-----------------------------------------------------------------------------+\n"
          ]
        }
      ]
    },
    {
      "cell_type": "code",
      "metadata": {
        "colab": {
          "base_uri": "https://localhost:8080/"
        },
        "id": "GxLoabda8Igd",
        "outputId": "153d96e4-a7f2-4ba9-f41e-0ab52bb6d5eb"
      },
      "source": [
        "#For A100-SXM4-40GB\n",
        "!pip3 install torch==1.9.0+cu111 torchvision==0.10.0+cu111 torchaudio==0.9.0 -f https://download.pytorch.org/whl/torch_stable.html\n",
        "import torch\n",
        "print(torch.__version__)"
      ],
      "execution_count": null,
      "outputs": [
        {
          "output_type": "stream",
          "name": "stdout",
          "text": [
            "1.9.0+cu111\n"
          ]
        }
      ]
    },
    {
      "cell_type": "code",
      "metadata": {
        "colab": {
          "base_uri": "https://localhost:8080/"
        },
        "id": "39R1mhhaFo_U",
        "outputId": "5c56a3fd-d226-4aab-92fb-eca33d288332"
      },
      "source": [
        "import os\n",
        "from google.colab import drive\n",
        "drive.mount('/content/gdrive')"
      ],
      "execution_count": null,
      "outputs": [
        {
          "output_type": "stream",
          "name": "stdout",
          "text": [
            "Mounted at /content/gdrive\n"
          ]
        }
      ]
    },
    {
      "cell_type": "code",
      "metadata": {
        "id": "rke22OIwpcOw"
      },
      "source": [
        "os.chdir('/content/gdrive/My Drive/Interactive/Code/Data')\n",
        "!unzip annotated_test_images.zip"
      ],
      "execution_count": null,
      "outputs": []
    },
    {
      "cell_type": "code",
      "metadata": {
        "id": "CWC6vH4dpedf"
      },
      "source": [
        "!unzip FSC147_384_V2.zip"
      ],
      "execution_count": null,
      "outputs": []
    },
    {
      "cell_type": "markdown",
      "metadata": {
        "id": "tr7FZumgG9bq"
      },
      "source": [
        "#Main"
      ]
    },
    {
      "cell_type": "code",
      "metadata": {
        "id": "_fyliP9JPbVU"
      },
      "source": [
        "os.chdir('/content/gdrive/My Drive/Interactive Counting/')\n",
        "import os\n",
        "import cv2\n",
        "import copy\n",
        "import json\n",
        "import torch\n",
        "import random\n",
        "import datetime\n",
        "import numpy as np\n",
        "from utils import matlab_style_gauss2D\n",
        "from region_sum_less_4 import VIS\n",
        "from tqdm import tqdm\n",
        "import torch.optim as optim\n",
        "import torch.nn.functional as F\n",
        "from dataset import FscBgDataset\n",
        "from Kernel_Resdiual_Learning import resdiual_learning\n",
        "from utils import extract_features, TransformTrain, MincountLoss, PerturbationLoss\n",
        "from model import Resnet50FPN, FixedCountRegressor, AdaptedCountRegressor, CountRegressor, weights_normal_init"
      ],
      "execution_count": null,
      "outputs": []
    },
    {
      "cell_type": "code",
      "metadata": {
        "id": "U2RveiSFGbeN"
      },
      "source": [
        "Root_dir = '/content/gdrive/My Drive/Interactive/Code/Data/'\n",
        "Save_dir = '/content/gdrive/My Drive/Interactive Counting/Saves/'\n",
        "Model_dir = os.path.join(Root_dir, 'FamNet_Pretrained.pth')\n",
        "train_dataset = FscBgDataset(Root_dir, 'train', False)\n",
        "val_dataset = FscBgDataset(Root_dir, 'val', False)\n",
        "test_dataset = FscBgDataset(Root_dir, 'test', False)\n",
        "if torch.cuda.is_available():\n",
        "    device = \"cuda:0\"\n",
        "else:\n",
        "    device = 'cpu'\n",
        "resnet50_conv = Resnet50FPN()\n",
        "resnet50_conv.to(device)\n",
        "regressor = CountRegressor(6, pool='mean')\n",
        "regressor.load_state_dict(torch.load(Model_dir))\n",
        "regressor.to(device)\n",
        "resnet50_conv.eval()\n",
        "regressor.eval()"
      ],
      "execution_count": null,
      "outputs": []
    },
    {
      "cell_type": "code",
      "metadata": {
        "id": "ZeNxM0bCG7P4"
      },
      "source": [
        "def interactive_loss(density, gt_density, mask, count_limit = 4):\n",
        "    density = density * mask\n",
        "    gt_density = gt_density * mask\n",
        "    if gt_density.sum() >= count_limit:\n",
        "        loss = max(0, count_limit - density.sum())\n",
        "    else:\n",
        "        loss = max(0, gt_density.sum() - density.sum()) + max(0, density.sum() - gt_density.sum())\n",
        "    return loss\n",
        "\n",
        "def sample_pixel(label):\n",
        "  height, width = label.shape\n",
        "  y = random.randint(0, height - 1)\n",
        "  x = random.randint(0, width - 1)\n",
        "  return y,x\n",
        "\n",
        "def random_region_sample(label):\n",
        "  max_label = np.max(label) + 1\n",
        "  random_label = np.random.randint(0, int(max_label))\n",
        "  return random_label\n",
        "\n",
        "def error_region_sample(label, density, gt_density):\n",
        "  max_label = np.max(label) + 1\n",
        "  max_error = 0\n",
        "  final_sample_label = None\n",
        "  #For all region, calculate the loss\n",
        "  for sample_label in range(max_label):\n",
        "    #The Mask\n",
        "    inter_mask = np.zeros((label.shape[0], label.shape[1]), dtype=np.uint8)\n",
        "    inter_mask[label == sample_label] = 1\n",
        "    inter_mask = torch.from_numpy(inter_mask).to(device)\n",
        "    #Error\n",
        "    inter_error = interactive_loss(density, gt_density, inter_mask)\n",
        "    #Max error\n",
        "    if max_error < inter_error:\n",
        "      max_error = inter_error\n",
        "      final_sample_label = sample_label\n",
        "  return final_sample_label"
      ],
      "execution_count": null,
      "outputs": []
    },
    {
      "cell_type": "markdown",
      "metadata": {
        "id": "HGunG-ffhunL"
      },
      "source": [
        "#Random"
      ]
    },
    {
      "cell_type": "code",
      "metadata": {
        "colab": {
          "base_uri": "https://localhost:8080/"
        },
        "id": "VXsDy3zxHEV2",
        "outputId": "cf17b076-2fd8-4722-d955-493ec704a48e"
      },
      "source": [
        "def adapted_test():\n",
        "    inter_result = [[], [], [], [], []]\n",
        "    show_detail = False\n",
        "    print(\"Adapted Test on FSC147 train set data\")\n",
        "    MAPS = ['map3', 'map4']\n",
        "    Scales = [0.9, 1.1]\n",
        "    idx_list = list(range(len(val_dataset)))\n",
        "    SAE = 0\n",
        "    SSE = 0\n",
        "    cnt = 0\n",
        "    starttime = datetime.datetime.now()\n",
        "    criterion = torch.nn.MSELoss().cuda()\n",
        "    \n",
        "    for idx in idx_list:\n",
        "        test_sample = val_dataset[idx]\n",
        "        im_id, image, boxes, dots, bg_mask_img, density = test_sample['im_id'], test_sample['image'], test_sample['boxes'], test_sample['dots'], test_sample['bg_mask_img'], test_sample['gt_density']\n",
        "        sample = {'image': image, 'lines_boxes': boxes, 'gt_density': density}\n",
        "        sample = TransformTrain(sample)\n",
        "        image, boxes, gt_density = sample['image'].to(device), sample['boxes'].to(device), sample['gt_density'].to(device)\n",
        "\n",
        "        with torch.no_grad():\n",
        "            features = extract_features(resnet50_conv, image.unsqueeze(0), boxes.unsqueeze(0), MAPS, Scales)\n",
        "        adapted_regressor = copy.deepcopy(regressor)\n",
        "\n",
        "        '''\n",
        "        Do the Test-Adaptation\n",
        "        '''\n",
        "\n",
        "        if Test_Adaptation:\n",
        "          adapted_regressor.train()\n",
        "          optimizer = optim.Adam(adapted_regressor.parameters(), lr=ADLR)\n",
        "          features.required_grad = True\n",
        "          for step in range(0, GS):\n",
        "              optimizer.zero_grad()\n",
        "              output = adapted_regressor(features)\n",
        "              lCount = weight_mincount * MincountLoss(output, boxes)\n",
        "              lPerturbation = weight_perturbation * PerturbationLoss(output, boxes, sigma=8)\n",
        "              loss = lCount + lPerturbation\n",
        "              if torch.is_tensor(loss):\n",
        "                  loss.backward()\n",
        "                  optimizer.step()\n",
        "\n",
        "        '''\n",
        "        Interaction\n",
        "        '''\n",
        "        inter_mask_list = []\n",
        "        for int_time in range(Inter_time):\n",
        "            #Inference\n",
        "            features.required_grad = False\n",
        "            output = adapted_regressor(features)\n",
        "\n",
        "            #VIS\n",
        "            density = output.squeeze().detach().cpu().numpy()\n",
        "            visual = VIS(density)\n",
        "            visual.solve()\n",
        "            label = visual.Llabel\n",
        "\n",
        "            #Sample Region Randomly\n",
        "            sample_label = random_region_sample(label)\n",
        "\n",
        "            #Get Mask\n",
        "            inter_mask = np.zeros((label.shape[0], label.shape[1]), dtype=np.uint8)\n",
        "            inter_mask[label == sample_label] = 1\n",
        "            inter_mask = torch.from_numpy(inter_mask).to(device)\n",
        "            inter_mask_list.append(inter_mask)\n",
        "            #Reshape The GT\n",
        "            if int_time < 1:\n",
        "                gt_density = F.interpolate(gt_density, size=(inter_mask.shape[0], inter_mask.shape[1]),\n",
        "                                           mode='bilinear').squeeze()\n",
        "\n",
        "            #Updating with Interaction\n",
        "            optimizer_inter = optim.Adam(adapted_regressor.parameters(), lr=INLR)\n",
        "            features.required_grad = True\n",
        "            for step in range(0, INGS):\n",
        "                #Inter Opti\n",
        "                optimizer_inter.zero_grad()\n",
        "                output = adapted_regressor(features).squeeze()\n",
        "                #Scheme 3\n",
        "                inter_loss = interactive_loss(output, gt_density, inter_mask)\n",
        "                if torch.is_tensor(inter_loss):\n",
        "                    inter_loss.backward()\n",
        "                    optimizer_inter.step()\n",
        "\n",
        "            '''\n",
        "            After Interaction\n",
        "            '''\n",
        "\n",
        "            features.required_grad = False\n",
        "            output = adapted_regressor(features).squeeze()\n",
        "            pred_cnt = output.sum().item()\n",
        "            gt_cnt = dots.shape[0]\n",
        "            cnt = cnt + 1\n",
        "            err = gt_cnt - pred_cnt\n",
        "            inter_result[int_time].append(err)\n",
        "        assert len(inter_mask_list) == 5\n",
        "    return inter_result\n",
        "\n",
        "###############################################Adaptation##############################################\n",
        "ADLR = 1e-7\n",
        "GS = 100\n",
        "weight_mincount = 1e-9\n",
        "weight_perturbation = 1e-4\n",
        "\n",
        "###############################################Interaction#############################################\n",
        "Inter_time = 5\n",
        "INGS = 15\n",
        "INLR = 1e-6\n",
        "Test_Adaptation = True\n",
        "show_detail = False\n",
        "\n",
        "\n",
        "\n",
        "Inter_result = adapted_test()\n",
        "for inter_time in range(Inter_time):\n",
        "    image_errs = Inter_result[inter_time]\n",
        "    image_errs = np.array(image_errs)\n",
        "    mse = np.sqrt(np.mean(np.square(image_errs)))\n",
        "    mae = np.mean(np.abs(image_errs))\n",
        "    print('mae {}, mse {}\\n'.format(mae, mse))\n"
      ],
      "execution_count": null,
      "outputs": [
        {
          "output_type": "stream",
          "name": "stdout",
          "text": [
            "Adapted Test on FSC147 train set data\n"
          ]
        },
        {
          "output_type": "stream",
          "name": "stderr",
          "text": [
            "/usr/local/lib/python3.7/dist-packages/torch/nn/functional.py:3613: UserWarning: Default upsampling behavior when mode=bilinear is changed to align_corners=False since 0.4.0. Please specify align_corners=True if the old behavior is desired. See the documentation of nn.Upsample for details.\n",
            "  \"See the documentation of nn.Upsample for details.\".format(mode)\n",
            "/content/gdrive/My Drive/Interactive Counting/utils.py:297: UserWarning: Using a target size (torch.Size([1])) that is different to the input size (torch.Size([])). This will likely lead to incorrect results due to broadcasting. Please ensure they have the same size.\n",
            "  Loss += F.mse_loss(X,ones)\n"
          ]
        },
        {
          "output_type": "stream",
          "name": "stdout",
          "text": [
            "mae 21.470863535606288, mse 65.85469470736172\n",
            "\n",
            "mae 19.836008624331576, mse 62.996610828623474\n",
            "\n",
            "mae 18.745018058162454, mse 61.45879279794624\n",
            "\n",
            "mae 18.08704783845096, mse 61.00249762303504\n",
            "\n",
            "mae 17.701802071062254, mse 61.3224876499629\n",
            "\n"
          ]
        }
      ]
    },
    {
      "cell_type": "markdown",
      "metadata": {
        "id": "frDmOUy1h6YH"
      },
      "source": [
        "#Error"
      ]
    },
    {
      "cell_type": "code",
      "metadata": {
        "colab": {
          "base_uri": "https://localhost:8080/"
        },
        "id": "vT65hmaqh8Du",
        "outputId": "840c3cdd-9b77-47b4-d61a-c963c2551653"
      },
      "source": [
        "def adapted_test():\n",
        "    inter_result = [[], [], [], [], []]\n",
        "    show_detail = False\n",
        "    print(\"Adapted Test on FSC147 train set data\")\n",
        "    MAPS = ['map3', 'map4']\n",
        "    Scales = [0.9, 1.1]\n",
        "    idx_list = list(range(len(val_dataset)))\n",
        "    SAE = 0\n",
        "    SSE = 0\n",
        "    cnt = 0\n",
        "    starttime = datetime.datetime.now()\n",
        "    criterion = torch.nn.MSELoss().cuda()\n",
        "    \n",
        "    for idx in idx_list:\n",
        "        test_sample = val_dataset[idx]\n",
        "        im_id, image, boxes, dots, bg_mask_img, density = test_sample['im_id'], test_sample['image'], test_sample['boxes'], test_sample['dots'], test_sample['bg_mask_img'], test_sample['gt_density']\n",
        "        sample = {'image': image, 'lines_boxes': boxes, 'gt_density': density}\n",
        "        sample = TransformTrain(sample)\n",
        "        image, boxes, gt_density = sample['image'].to(device), sample['boxes'].to(device), sample['gt_density'].to(device)\n",
        "\n",
        "        with torch.no_grad():\n",
        "            features = extract_features(resnet50_conv, image.unsqueeze(0), boxes.unsqueeze(0), MAPS, Scales)\n",
        "        adapted_regressor = copy.deepcopy(regressor)\n",
        "\n",
        "        '''\n",
        "        Do the Test-Adaptation\n",
        "        '''\n",
        "\n",
        "        if Test_Adaptation:\n",
        "          adapted_regressor.train()\n",
        "          optimizer = optim.Adam(adapted_regressor.parameters(), lr=ADLR)\n",
        "          features.required_grad = True\n",
        "          for step in range(0, GS):\n",
        "              optimizer.zero_grad()\n",
        "              output = adapted_regressor(features)\n",
        "              lCount = weight_mincount * MincountLoss(output, boxes)\n",
        "              lPerturbation = weight_perturbation * PerturbationLoss(output, boxes, sigma=8)\n",
        "              loss = lCount + lPerturbation\n",
        "              if torch.is_tensor(loss):\n",
        "                  loss.backward()\n",
        "                  optimizer.step()\n",
        "\n",
        "        '''\n",
        "        Interaction\n",
        "        '''\n",
        "        inter_mask_list = []\n",
        "        for int_time in range(Inter_time):\n",
        "            #Inference\n",
        "            features.required_grad = False\n",
        "            output = adapted_regressor(features)\n",
        "\n",
        "            #VIS\n",
        "            density = output.squeeze().detach().cpu().numpy()\n",
        "            visual = VIS(density)\n",
        "            visual.solve()\n",
        "            label = visual.Llabel\n",
        "            \n",
        "            #Reshape The GT\n",
        "            if int_time < 1:\n",
        "                gt_density = F.interpolate(gt_density, size=(label.shape[0], label.shape[1]),\n",
        "                                           mode='bilinear').squeeze()\n",
        "\n",
        "            #Sample Region Randomly\n",
        "            #sample_label = random_region_sample(label)\n",
        "            sample_label = error_region_sample(label, output.squeeze(), gt_density)\n",
        "\n",
        "            #Get Mask\n",
        "            inter_mask = np.zeros((label.shape[0], label.shape[1]), dtype=np.uint8)\n",
        "            inter_mask[label == sample_label] = 1\n",
        "            inter_mask = torch.from_numpy(inter_mask).to(device)\n",
        "            inter_mask_list.append(inter_mask)\n",
        "            \n",
        "\n",
        "            #Updating with Interaction\n",
        "            optimizer_inter = optim.Adam(adapted_regressor.parameters(), lr=INLR)\n",
        "            features.required_grad = True\n",
        "            for step in range(0, INGS):\n",
        "                #Inter Opti\n",
        "                optimizer_inter.zero_grad()\n",
        "                output = adapted_regressor(features).squeeze()\n",
        "                #Scheme 3\n",
        "                inter_loss = interactive_loss(output, gt_density, inter_mask)\n",
        "                if torch.is_tensor(inter_loss):\n",
        "                    inter_loss.backward()\n",
        "                    optimizer_inter.step()\n",
        "\n",
        "            '''\n",
        "            After Interaction\n",
        "            '''\n",
        "\n",
        "            features.required_grad = False\n",
        "            output = adapted_regressor(features).squeeze()\n",
        "            pred_cnt = output.sum().item()\n",
        "            gt_cnt = dots.shape[0]\n",
        "            cnt = cnt + 1\n",
        "            err = gt_cnt - pred_cnt\n",
        "            inter_result[int_time].append(err)\n",
        "        assert len(inter_mask_list) == 5\n",
        "    return inter_result\n",
        "\n",
        "###############################################Adaptation##############################################\n",
        "ADLR = 1e-7\n",
        "GS = 100\n",
        "weight_mincount = 1e-9\n",
        "weight_perturbation = 1e-4\n",
        "\n",
        "###############################################Interaction#############################################\n",
        "Inter_time = 5\n",
        "INGS = 15\n",
        "INLR = 1e-6\n",
        "Test_Adaptation = True\n",
        "show_detail = False\n",
        "\n",
        "\n",
        "\n",
        "Inter_result = adapted_test()\n",
        "for inter_time in range(Inter_time):\n",
        "    image_errs = Inter_result[inter_time]\n",
        "    image_errs = np.array(image_errs)\n",
        "    mse = np.sqrt(np.mean(np.square(image_errs)))\n",
        "    mae = np.mean(np.abs(image_errs))\n",
        "    print('mae {}, mse {}\\n'.format(mae, mse))\n"
      ],
      "execution_count": null,
      "outputs": [
        {
          "metadata": {
            "tags": null
          },
          "name": "stdout",
          "output_type": "stream",
          "text": [
            "Adapted Test on FSC147 train set data\n"
          ]
        },
        {
          "metadata": {
            "tags": null
          },
          "name": "stderr",
          "output_type": "stream",
          "text": [
            "/usr/local/lib/python3.7/dist-packages/torch/nn/functional.py:3613: UserWarning: Default upsampling behavior when mode=bilinear is changed to align_corners=False since 0.4.0. Please specify align_corners=True if the old behavior is desired. See the documentation of nn.Upsample for details.\n",
            "  \"See the documentation of nn.Upsample for details.\".format(mode)\n",
            "/content/gdrive/My Drive/Interactive Counting/utils.py:297: UserWarning: Using a target size (torch.Size([1])) that is different to the input size (torch.Size([])). This will likely lead to incorrect results due to broadcasting. Please ensure they have the same size.\n",
            "  Loss += F.mse_loss(X,ones)\n"
          ]
        },
        {
          "output_type": "stream",
          "name": "stdout",
          "text": [
            "mae 19.333271818806185, mse 64.41221646373836\n",
            "\n",
            "mae 17.61154621199909, mse 61.92246654294099\n",
            "\n",
            "mae 15.700249072367074, mse 57.65492074504789\n",
            "\n",
            "mae 15.931036880932181, mse 56.422314540826534\n",
            "\n",
            "mae 14.979593455698776, mse 55.661087816311216\n",
            "\n"
          ]
        }
      ]
    }
  ]
}