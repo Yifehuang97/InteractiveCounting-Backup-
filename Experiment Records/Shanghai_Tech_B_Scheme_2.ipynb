{
  "nbformat": 4,
  "nbformat_minor": 0,
  "metadata": {
    "colab": {
      "name": "Shanghai Tech B Scheme 2",
      "provenance": [],
      "collapsed_sections": []
    },
    "kernelspec": {
      "name": "python3",
      "display_name": "Python 3"
    },
    "language_info": {
      "name": "python"
    },
    "accelerator": "GPU",
    "widgets": {
      "application/vnd.jupyter.widget-state+json": {
        "15f8231721cd4cac86444d3d4bfbcf17": {
          "model_module": "@jupyter-widgets/controls",
          "model_name": "HBoxModel",
          "model_module_version": "1.5.0",
          "state": {
            "_view_name": "HBoxView",
            "_dom_classes": [],
            "_model_name": "HBoxModel",
            "_view_module": "@jupyter-widgets/controls",
            "_model_module_version": "1.5.0",
            "_view_count": null,
            "_view_module_version": "1.5.0",
            "box_style": "",
            "layout": "IPY_MODEL_03b91129e85a42c58bf1df983658d2cb",
            "_model_module": "@jupyter-widgets/controls",
            "children": [
              "IPY_MODEL_3c72dd7acfd54f159da2d5394a4eef9d",
              "IPY_MODEL_a97a47be66dd49ab9af1963389ddc1ec",
              "IPY_MODEL_8ef898432a2b4b13b34bfc430617e2c9"
            ]
          }
        },
        "03b91129e85a42c58bf1df983658d2cb": {
          "model_module": "@jupyter-widgets/base",
          "model_name": "LayoutModel",
          "model_module_version": "1.2.0",
          "state": {
            "_view_name": "LayoutView",
            "grid_template_rows": null,
            "right": null,
            "justify_content": null,
            "_view_module": "@jupyter-widgets/base",
            "overflow": null,
            "_model_module_version": "1.2.0",
            "_view_count": null,
            "flex_flow": null,
            "width": null,
            "min_width": null,
            "border": null,
            "align_items": null,
            "bottom": null,
            "_model_module": "@jupyter-widgets/base",
            "top": null,
            "grid_column": null,
            "overflow_y": null,
            "overflow_x": null,
            "grid_auto_flow": null,
            "grid_area": null,
            "grid_template_columns": null,
            "flex": null,
            "_model_name": "LayoutModel",
            "justify_items": null,
            "grid_row": null,
            "max_height": null,
            "align_content": null,
            "visibility": null,
            "align_self": null,
            "height": null,
            "min_height": null,
            "padding": null,
            "grid_auto_rows": null,
            "grid_gap": null,
            "max_width": null,
            "order": null,
            "_view_module_version": "1.2.0",
            "grid_template_areas": null,
            "object_position": null,
            "object_fit": null,
            "grid_auto_columns": null,
            "margin": null,
            "display": null,
            "left": null
          }
        },
        "3c72dd7acfd54f159da2d5394a4eef9d": {
          "model_module": "@jupyter-widgets/controls",
          "model_name": "HTMLModel",
          "model_module_version": "1.5.0",
          "state": {
            "_view_name": "HTMLView",
            "style": "IPY_MODEL_4bd8f7cc1c7c4eb4a8dc09376928bb34",
            "_dom_classes": [],
            "description": "",
            "_model_name": "HTMLModel",
            "placeholder": "​",
            "_view_module": "@jupyter-widgets/controls",
            "_model_module_version": "1.5.0",
            "value": "100%",
            "_view_count": null,
            "_view_module_version": "1.5.0",
            "description_tooltip": null,
            "_model_module": "@jupyter-widgets/controls",
            "layout": "IPY_MODEL_b534de5cfb0c43a7969acca833fe928c"
          }
        },
        "a97a47be66dd49ab9af1963389ddc1ec": {
          "model_module": "@jupyter-widgets/controls",
          "model_name": "FloatProgressModel",
          "model_module_version": "1.5.0",
          "state": {
            "_view_name": "ProgressView",
            "style": "IPY_MODEL_60231df844f248e1a99bb712d6a495cb",
            "_dom_classes": [],
            "description": "",
            "_model_name": "FloatProgressModel",
            "bar_style": "success",
            "max": 574673361,
            "_view_module": "@jupyter-widgets/controls",
            "_model_module_version": "1.5.0",
            "value": 574673361,
            "_view_count": null,
            "_view_module_version": "1.5.0",
            "orientation": "horizontal",
            "min": 0,
            "description_tooltip": null,
            "_model_module": "@jupyter-widgets/controls",
            "layout": "IPY_MODEL_96d32f45be154207a66a217dc699a511"
          }
        },
        "8ef898432a2b4b13b34bfc430617e2c9": {
          "model_module": "@jupyter-widgets/controls",
          "model_name": "HTMLModel",
          "model_module_version": "1.5.0",
          "state": {
            "_view_name": "HTMLView",
            "style": "IPY_MODEL_9c71bb6cb2fa41799262e7df1c207225",
            "_dom_classes": [],
            "description": "",
            "_model_name": "HTMLModel",
            "placeholder": "​",
            "_view_module": "@jupyter-widgets/controls",
            "_model_module_version": "1.5.0",
            "value": " 548M/548M [00:03&lt;00:00, 164MB/s]",
            "_view_count": null,
            "_view_module_version": "1.5.0",
            "description_tooltip": null,
            "_model_module": "@jupyter-widgets/controls",
            "layout": "IPY_MODEL_6da7bc66a42a406bae17127ea3a51716"
          }
        },
        "4bd8f7cc1c7c4eb4a8dc09376928bb34": {
          "model_module": "@jupyter-widgets/controls",
          "model_name": "DescriptionStyleModel",
          "model_module_version": "1.5.0",
          "state": {
            "_view_name": "StyleView",
            "_model_name": "DescriptionStyleModel",
            "description_width": "",
            "_view_module": "@jupyter-widgets/base",
            "_model_module_version": "1.5.0",
            "_view_count": null,
            "_view_module_version": "1.2.0",
            "_model_module": "@jupyter-widgets/controls"
          }
        },
        "b534de5cfb0c43a7969acca833fe928c": {
          "model_module": "@jupyter-widgets/base",
          "model_name": "LayoutModel",
          "model_module_version": "1.2.0",
          "state": {
            "_view_name": "LayoutView",
            "grid_template_rows": null,
            "right": null,
            "justify_content": null,
            "_view_module": "@jupyter-widgets/base",
            "overflow": null,
            "_model_module_version": "1.2.0",
            "_view_count": null,
            "flex_flow": null,
            "width": null,
            "min_width": null,
            "border": null,
            "align_items": null,
            "bottom": null,
            "_model_module": "@jupyter-widgets/base",
            "top": null,
            "grid_column": null,
            "overflow_y": null,
            "overflow_x": null,
            "grid_auto_flow": null,
            "grid_area": null,
            "grid_template_columns": null,
            "flex": null,
            "_model_name": "LayoutModel",
            "justify_items": null,
            "grid_row": null,
            "max_height": null,
            "align_content": null,
            "visibility": null,
            "align_self": null,
            "height": null,
            "min_height": null,
            "padding": null,
            "grid_auto_rows": null,
            "grid_gap": null,
            "max_width": null,
            "order": null,
            "_view_module_version": "1.2.0",
            "grid_template_areas": null,
            "object_position": null,
            "object_fit": null,
            "grid_auto_columns": null,
            "margin": null,
            "display": null,
            "left": null
          }
        },
        "60231df844f248e1a99bb712d6a495cb": {
          "model_module": "@jupyter-widgets/controls",
          "model_name": "ProgressStyleModel",
          "model_module_version": "1.5.0",
          "state": {
            "_view_name": "StyleView",
            "_model_name": "ProgressStyleModel",
            "description_width": "",
            "_view_module": "@jupyter-widgets/base",
            "_model_module_version": "1.5.0",
            "_view_count": null,
            "_view_module_version": "1.2.0",
            "bar_color": null,
            "_model_module": "@jupyter-widgets/controls"
          }
        },
        "96d32f45be154207a66a217dc699a511": {
          "model_module": "@jupyter-widgets/base",
          "model_name": "LayoutModel",
          "model_module_version": "1.2.0",
          "state": {
            "_view_name": "LayoutView",
            "grid_template_rows": null,
            "right": null,
            "justify_content": null,
            "_view_module": "@jupyter-widgets/base",
            "overflow": null,
            "_model_module_version": "1.2.0",
            "_view_count": null,
            "flex_flow": null,
            "width": null,
            "min_width": null,
            "border": null,
            "align_items": null,
            "bottom": null,
            "_model_module": "@jupyter-widgets/base",
            "top": null,
            "grid_column": null,
            "overflow_y": null,
            "overflow_x": null,
            "grid_auto_flow": null,
            "grid_area": null,
            "grid_template_columns": null,
            "flex": null,
            "_model_name": "LayoutModel",
            "justify_items": null,
            "grid_row": null,
            "max_height": null,
            "align_content": null,
            "visibility": null,
            "align_self": null,
            "height": null,
            "min_height": null,
            "padding": null,
            "grid_auto_rows": null,
            "grid_gap": null,
            "max_width": null,
            "order": null,
            "_view_module_version": "1.2.0",
            "grid_template_areas": null,
            "object_position": null,
            "object_fit": null,
            "grid_auto_columns": null,
            "margin": null,
            "display": null,
            "left": null
          }
        },
        "9c71bb6cb2fa41799262e7df1c207225": {
          "model_module": "@jupyter-widgets/controls",
          "model_name": "DescriptionStyleModel",
          "model_module_version": "1.5.0",
          "state": {
            "_view_name": "StyleView",
            "_model_name": "DescriptionStyleModel",
            "description_width": "",
            "_view_module": "@jupyter-widgets/base",
            "_model_module_version": "1.5.0",
            "_view_count": null,
            "_view_module_version": "1.2.0",
            "_model_module": "@jupyter-widgets/controls"
          }
        },
        "6da7bc66a42a406bae17127ea3a51716": {
          "model_module": "@jupyter-widgets/base",
          "model_name": "LayoutModel",
          "model_module_version": "1.2.0",
          "state": {
            "_view_name": "LayoutView",
            "grid_template_rows": null,
            "right": null,
            "justify_content": null,
            "_view_module": "@jupyter-widgets/base",
            "overflow": null,
            "_model_module_version": "1.2.0",
            "_view_count": null,
            "flex_flow": null,
            "width": null,
            "min_width": null,
            "border": null,
            "align_items": null,
            "bottom": null,
            "_model_module": "@jupyter-widgets/base",
            "top": null,
            "grid_column": null,
            "overflow_y": null,
            "overflow_x": null,
            "grid_auto_flow": null,
            "grid_area": null,
            "grid_template_columns": null,
            "flex": null,
            "_model_name": "LayoutModel",
            "justify_items": null,
            "grid_row": null,
            "max_height": null,
            "align_content": null,
            "visibility": null,
            "align_self": null,
            "height": null,
            "min_height": null,
            "padding": null,
            "grid_auto_rows": null,
            "grid_gap": null,
            "max_width": null,
            "order": null,
            "_view_module_version": "1.2.0",
            "grid_template_areas": null,
            "object_position": null,
            "object_fit": null,
            "grid_auto_columns": null,
            "margin": null,
            "display": null,
            "left": null
          }
        }
      }
    }
  },
  "cells": [
    {
      "cell_type": "code",
      "metadata": {
        "colab": {
          "base_uri": "https://localhost:8080/"
        },
        "id": "az4j5ANp-kAU",
        "outputId": "1082b251-d7b6-46e9-d556-fa6edcad9170"
      },
      "source": [
        "!/opt/bin/nvidia-smi"
      ],
      "execution_count": null,
      "outputs": [
        {
          "output_type": "stream",
          "name": "stdout",
          "text": [
            "Wed Oct 27 18:39:47 2021       \n",
            "+-----------------------------------------------------------------------------+\n",
            "| NVIDIA-SMI 460.32.03    Driver Version: 460.32.03    CUDA Version: 11.2     |\n",
            "|-------------------------------+----------------------+----------------------+\n",
            "| GPU  Name        Persistence-M| Bus-Id        Disp.A | Volatile Uncorr. ECC |\n",
            "| Fan  Temp  Perf  Pwr:Usage/Cap|         Memory-Usage | GPU-Util  Compute M. |\n",
            "|                               |                      |               MIG M. |\n",
            "|===============================+======================+======================|\n",
            "|   0  Tesla V100-SXM2...  Off  | 00000000:00:04.0 Off |                    0 |\n",
            "| N/A   41C    P0    26W / 300W |      0MiB / 16160MiB |      0%      Default |\n",
            "|                               |                      |                  N/A |\n",
            "+-------------------------------+----------------------+----------------------+\n",
            "                                                                               \n",
            "+-----------------------------------------------------------------------------+\n",
            "| Processes:                                                                  |\n",
            "|  GPU   GI   CI        PID   Type   Process name                  GPU Memory |\n",
            "|        ID   ID                                                   Usage      |\n",
            "|=============================================================================|\n",
            "|  No running processes found                                                 |\n",
            "+-----------------------------------------------------------------------------+\n"
          ]
        }
      ]
    },
    {
      "cell_type": "code",
      "metadata": {
        "colab": {
          "base_uri": "https://localhost:8080/"
        },
        "id": "g-3oWFNw_xGG",
        "outputId": "46b73559-d25d-4c05-8003-7590867abb4d"
      },
      "source": [
        "import os\n",
        "from google.colab import drive\n",
        "drive.mount('/content/gdrive')"
      ],
      "execution_count": null,
      "outputs": [
        {
          "output_type": "stream",
          "name": "stdout",
          "text": [
            "Mounted at /content/gdrive\n"
          ]
        }
      ]
    },
    {
      "cell_type": "code",
      "metadata": {
        "id": "T2aC2h0IAONJ"
      },
      "source": [
        "os.chdir('/content/gdrive/My Drive/Shanghai/')"
      ],
      "execution_count": null,
      "outputs": []
    },
    {
      "cell_type": "code",
      "metadata": {
        "id": "JXfDAJQFAWVZ"
      },
      "source": [
        "import argparse\n",
        "import torch\n",
        "import os\n",
        "import numpy as np\n",
        "import datasets.crowd as crowd\n",
        "from models import vgg19"
      ],
      "execution_count": null,
      "outputs": []
    },
    {
      "cell_type": "code",
      "metadata": {
        "colab": {
          "base_uri": "https://localhost:8080/"
        },
        "id": "Wg6r3viFBzjn",
        "outputId": "00c1607a-ce43-40a0-f317-6382f72733da"
      },
      "source": [
        "device = 0\n",
        "crop_size = 512\n",
        "model_path = './data/model_sh_B.pth'\n",
        "data_path = './data/ShanghaiTech/part_B/'\n",
        "dataset = 'shb'\n",
        "os.environ['CUDA_VISIBLE_DEVICES'] = '0'\n",
        "device = torch.device('cuda')\n",
        "dataset = crowd.Crowd_sh(os.path.join(data_path, 'test_data'), crop_size, 8, method='val')\n",
        "dataloader = torch.utils.data.DataLoader(dataset, 1, shuffle=False,\n",
        "                                         num_workers=1, pin_memory=True)"
      ],
      "execution_count": null,
      "outputs": [
        {
          "output_type": "stream",
          "name": "stdout",
          "text": [
            "number of img: 316\n"
          ]
        }
      ]
    },
    {
      "cell_type": "code",
      "metadata": {
        "colab": {
          "base_uri": "https://localhost:8080/",
          "height": 66,
          "referenced_widgets": [
            "15f8231721cd4cac86444d3d4bfbcf17",
            "03b91129e85a42c58bf1df983658d2cb",
            "3c72dd7acfd54f159da2d5394a4eef9d",
            "a97a47be66dd49ab9af1963389ddc1ec",
            "8ef898432a2b4b13b34bfc430617e2c9",
            "4bd8f7cc1c7c4eb4a8dc09376928bb34",
            "b534de5cfb0c43a7969acca833fe928c",
            "60231df844f248e1a99bb712d6a495cb",
            "96d32f45be154207a66a217dc699a511",
            "9c71bb6cb2fa41799262e7df1c207225",
            "6da7bc66a42a406bae17127ea3a51716"
          ]
        },
        "id": "mH4xxiPwC3mA",
        "outputId": "3f39e7a7-bd64-4317-931e-dbf3cf0759e3"
      },
      "source": [
        "model = vgg19()\n",
        "model.to(device)\n",
        "model.load_state_dict(torch.load(model_path, device))\n",
        "model.eval()\n",
        "image_errs = []"
      ],
      "execution_count": null,
      "outputs": [
        {
          "output_type": "stream",
          "name": "stderr",
          "text": [
            "Downloading: \"https://download.pytorch.org/models/vgg19-dcbb9e9d.pth\" to /root/.cache/torch/hub/checkpoints/vgg19-dcbb9e9d.pth\n"
          ]
        },
        {
          "output_type": "display_data",
          "data": {
            "application/vnd.jupyter.widget-view+json": {
              "model_id": "15f8231721cd4cac86444d3d4bfbcf17",
              "version_minor": 0,
              "version_major": 2
            },
            "text/plain": [
              "  0%|          | 0.00/548M [00:00<?, ?B/s]"
            ]
          },
          "metadata": {}
        }
      ]
    },
    {
      "cell_type": "code",
      "metadata": {
        "id": "ThsnxvgVFeNA"
      },
      "source": [
        "def interactive_loss(density, gt_density, mask, count_limit = 4):\n",
        "    density = density * mask\n",
        "    gt_density = gt_density * mask\n",
        "    if gt_density.sum() >= count_limit:\n",
        "        loss = max(0, count_limit - density.sum())\n",
        "    else:\n",
        "        loss = max(0, gt_density.sum() - density.sum()) + max(0, density.sum() - gt_density.sum())\n",
        "    return loss\n",
        "\n",
        "def sample_pixel(label):\n",
        "  height, width = label.shape\n",
        "  y = random.randint(0, height - 1)\n",
        "  x = random.randint(0, width - 1)\n",
        "  return y,x\n",
        "\n",
        "def random_region_sample(label):\n",
        "  max_label = np.max(label) + 1\n",
        "  random_label = np.random.randint(0, int(max_label))\n",
        "  return random_label\n",
        "\n",
        "def error_region_sample(label, density, gt_density):\n",
        "  max_label = np.max(label) + 1\n",
        "  max_error = 0\n",
        "  final_sample_label = None\n",
        "  #For all region, calculate the loss\n",
        "  for sample_label in range(max_label):\n",
        "    #The Mask\n",
        "    inter_mask = np.zeros((label.shape[0], label.shape[1]), dtype=np.uint8)\n",
        "    inter_mask[label == sample_label] = 1\n",
        "    inter_mask = torch.from_numpy(inter_mask).to(device)\n",
        "    #Error\n",
        "    inter_error = interactive_loss(density, gt_density, inter_mask)\n",
        "    #Max error\n",
        "    if max_error < inter_error:\n",
        "      max_error = inter_error\n",
        "      final_sample_label = sample_label\n",
        "  return final_sample_label"
      ],
      "execution_count": null,
      "outputs": []
    },
    {
      "cell_type": "markdown",
      "metadata": {
        "id": "sAN5cNYaSRjL"
      },
      "source": [
        "#Random"
      ]
    },
    {
      "cell_type": "code",
      "metadata": {
        "colab": {
          "base_uri": "https://localhost:8080/"
        },
        "id": "mMPNNpEBIVWm",
        "outputId": "88cdd38f-f767-469c-956c-4d5d5a980d1c"
      },
      "source": [
        "import copy\n",
        "import scipy.io as sio\n",
        "import torch.optim as optim\n",
        "from region_sum_less_4 import VIS\n",
        "import torch.nn.functional as F\n",
        "image_errs = []\n",
        "mat_path = './data/ShanghaiTech/part_B/test_data/ground-truth/'\n",
        "INTER_TIMES = 1\n",
        "INGS = 20\n",
        "INLR = 5e-8\n",
        "Inter_result = [[], [], [], [], []]\n",
        "def adapted_test():\n",
        "  image_errs = []\n",
        "  for inputs, count, name in dataloader:\n",
        "      inputs = inputs.to(device)\n",
        "\n",
        "      #Get GT_density(Same Size with output)\n",
        "      density_path = 'GT_' + name[0] + '.mat'\n",
        "      density_path = os.path.join(mat_path, density_path)\n",
        "      keypoints = sio.loadmat(density_path)['image_info'][0][0][0][0][0]\n",
        "      outputs, _ = model(inputs)\n",
        "      density = outputs.squeeze()\n",
        "      h, w = density.shape[0], density.shape[1]\n",
        "      GT_density = np.zeros((h, w))\n",
        "      for i in range(keypoints.shape[0]):\n",
        "        x, y = min(int(np.rint(keypoints[i][0] / 8)), w - 1), min(int(np.rint(keypoints[i][1] / 8)), h - 1)\n",
        "        GT_density[y][x] += 1\n",
        "\n",
        "      assert GT_density.sum() == count[0].item()\n",
        "      GT_density = torch.from_numpy(GT_density).to(device)    \n",
        "      adapted_model = copy.deepcopy(model)\n",
        "      adapted_model.train()\n",
        "      '''\n",
        "      Start Interaction\n",
        "      '''\n",
        "      inter_mask_list = []\n",
        "      for inter_time in range(INTER_TIMES):\n",
        "        \n",
        "        assert inputs.size(0) == 1, 'the batch size should equal to 1'\n",
        "        outputs, _ = adapted_model(inputs)\n",
        "\n",
        "        #Vis\n",
        "        density = outputs.squeeze().detach().cpu().numpy()\n",
        "        visual = VIS(density)\n",
        "        visual.solve()\n",
        "        label = visual.Llabel\n",
        "        \n",
        "        #Sample Region Randomly\n",
        "        sample_label = random_region_sample(label)\n",
        "\n",
        "        #Get Mask\n",
        "        inter_mask = np.zeros((label.shape[0], label.shape[1]), dtype=np.uint8)\n",
        "        inter_mask[label == sample_label] = 1\n",
        "        inter_mask = torch.from_numpy(inter_mask).to(device)\n",
        "        inter_mask_list.append(inter_mask)\n",
        "        optimizer_inter = optim.Adam(adapted_model.parameters(), lr=INLR)\n",
        "        for step in range(0, INGS):\n",
        "          #Inter Opti\n",
        "          optimizer_inter.zero_grad()\n",
        "          output, _ = adapted_model(inputs)\n",
        "          #inter_loss = 0\n",
        "          #Scheme 2\n",
        "          #for inmask in inter_mask_list:\n",
        "          inter_loss = interactive_loss(output, GT_density, inter_mask)\n",
        "          #inter_loss /= len(inter_mask_list)\n",
        "          #inter_loss = criterion((output * inter_mask).sum(), (gt_density * inter_mask).sum())\n",
        "          if torch.is_tensor(inter_loss):\n",
        "              inter_loss.backward()\n",
        "              optimizer_inter.step()\n",
        "        \n",
        "        '''\n",
        "        Final Test it\n",
        "        '''\n",
        "        #with torch.set_grad_enabled(False):\n",
        "        outputs, _ = adapted_model(inputs)\n",
        "        img_err = count[0].item() - torch.sum(outputs).item()\n",
        "      #print(name, img_err, count[0].item(), torch.sum(outputs).item())\n",
        "      #image_errs.append(img_err)\n",
        "        Inter_result[inter_time].append(img_err)\n",
        "  for inter_time in range(INTER_TIMES):\n",
        "    image_errs = Inter_result[inter_time]\n",
        "    image_errs = np.array(image_errs)\n",
        "    mse = np.sqrt(np.mean(np.square(image_errs)))\n",
        "    mae = np.mean(np.abs(image_errs))\n",
        "    print('{}: mae {}, mse {}\\n'.format(model_path, mae, mse))\n",
        "\n",
        "INGS = 30\n",
        "INLR = 1e-8\n",
        "INTER_TIMES = 5\n",
        "#for INTER_TIMES in [0, 1, 2, 3, 4, 5]:\n",
        "#for INGS in [20, 25, 30]:\n",
        "#  for INLR in [1e-8, 5e-8, 1e-7]:\n",
        "#    print('############################################################')\n",
        "#    print('GS: ', INGS, 'LR: ', INLR)\n",
        "adapted_test()\n",
        "#59.7 95.7\n",
        "#Not that much improve since the downsampling \n",
        "#Different hyper parameters\n",
        "#Not that genalize\n",
        "#7.4 11.8"
      ],
      "execution_count": null,
      "outputs": [
        {
          "output_type": "stream",
          "name": "stderr",
          "text": [
            "/usr/local/lib/python3.7/dist-packages/torch/nn/functional.py:718: UserWarning: Named tensors and all their associated APIs are an experimental feature and subject to change. Please do not use them for anything important until they are released as stable. (Triggered internally at  /pytorch/c10/core/TensorImpl.h:1156.)\n",
            "  return torch.max_pool2d(input, kernel_size, stride, padding, dilation, ceil_mode)\n",
            "/usr/local/lib/python3.7/dist-packages/torch/nn/functional.py:3825: UserWarning: nn.functional.upsample_bilinear is deprecated. Use nn.functional.interpolate instead.\n",
            "  warnings.warn(\"nn.functional.upsample_bilinear is deprecated. Use nn.functional.interpolate instead.\")\n",
            "/usr/local/lib/python3.7/dist-packages/torch/nn/functional.py:3613: UserWarning: Default upsampling behavior when mode=bilinear is changed to align_corners=False since 0.4.0. Please specify align_corners=True if the old behavior is desired. See the documentation of nn.Upsample for details.\n",
            "  \"See the documentation of nn.Upsample for details.\".format(mode)\n"
          ]
        },
        {
          "output_type": "stream",
          "name": "stdout",
          "text": [
            "./data/model_sh_B.pth: mae 7.318292207355741, mse 11.769933464759989\n",
            "\n",
            "./data/model_sh_B.pth: mae 7.311815868450116, mse 11.76042108942345\n",
            "\n",
            "./data/model_sh_B.pth: mae 7.311262076414084, mse 11.765745892499636\n",
            "\n",
            "./data/model_sh_B.pth: mae 7.282503819163842, mse 11.73834879453245\n",
            "\n",
            "./data/model_sh_B.pth: mae 7.276988928831076, mse 11.669940687762253\n",
            "\n"
          ]
        }
      ]
    },
    {
      "cell_type": "markdown",
      "metadata": {
        "id": "QfqD5dSTSdnS"
      },
      "source": [
        "#Error"
      ]
    },
    {
      "cell_type": "code",
      "metadata": {
        "id": "VfA9UvQlSepr",
        "colab": {
          "base_uri": "https://localhost:8080/"
        },
        "outputId": "a04f7d6b-7b73-43c4-9bb7-42b311e25c14"
      },
      "source": [
        "import copy\n",
        "import scipy.io as sio\n",
        "import torch.optim as optim\n",
        "from region_sum_less_4 import VIS\n",
        "import torch.nn.functional as F\n",
        "image_errs = []\n",
        "mat_path = './data/ShanghaiTech/part_B/test_data/ground-truth/'\n",
        "INTER_TIMES = 1\n",
        "INGS = 20\n",
        "INLR = 5e-8\n",
        "Inter_result = [[], [], [], [], []]\n",
        "def adapted_test():\n",
        "  image_errs = []\n",
        "  for inputs, count, name in dataloader:\n",
        "      inputs = inputs.to(device)\n",
        "\n",
        "      #Get GT_density(Same Size with output)\n",
        "      density_path = 'GT_' + name[0] + '.mat'\n",
        "      density_path = os.path.join(mat_path, density_path)\n",
        "      keypoints = sio.loadmat(density_path)['image_info'][0][0][0][0][0]\n",
        "      outputs, _ = model(inputs)\n",
        "      density = outputs.squeeze()\n",
        "      h, w = density.shape[0], density.shape[1]\n",
        "      GT_density = np.zeros((h, w))\n",
        "      for i in range(keypoints.shape[0]):\n",
        "        x, y = min(int(np.rint(keypoints[i][0] / 8)), w - 1), min(int(np.rint(keypoints[i][1] / 8)), h - 1)\n",
        "        GT_density[y][x] += 1\n",
        "\n",
        "      assert GT_density.sum() == count[0].item()\n",
        "      GT_density = torch.from_numpy(GT_density).to(device)    \n",
        "      adapted_model = copy.deepcopy(model)\n",
        "      adapted_model.train()\n",
        "      '''\n",
        "      Start Interaction\n",
        "      '''\n",
        "      inter_mask_list = []\n",
        "      for inter_time in range(INTER_TIMES):\n",
        "        \n",
        "        assert inputs.size(0) == 1, 'the batch size should equal to 1'\n",
        "        outputs, _ = adapted_model(inputs)\n",
        "\n",
        "        #Vis\n",
        "        density = outputs.squeeze().detach().cpu().numpy()\n",
        "        visual = VIS(density)\n",
        "        visual.solve()\n",
        "        label = visual.Llabel\n",
        "        \n",
        "        #Sample Region Randomly\n",
        "        #sample_label = random_region_sample(label)\n",
        "        sample_label = error_region_sample(label, outputs.squeeze(), GT_density)\n",
        "        #Get Mask\n",
        "        inter_mask = np.zeros((label.shape[0], label.shape[1]), dtype=np.uint8)\n",
        "        inter_mask[label == sample_label] = 1\n",
        "        inter_mask = torch.from_numpy(inter_mask).to(device)\n",
        "        inter_mask_list.append(inter_mask)\n",
        "        optimizer_inter = optim.Adam(adapted_model.parameters(), lr=INLR)\n",
        "        for step in range(0, INGS):\n",
        "          #Inter Opti\n",
        "          optimizer_inter.zero_grad()\n",
        "          output, _ = adapted_model(inputs)\n",
        "          #inter_loss = 0\n",
        "          #Scheme 2\n",
        "          #for inmask in inter_mask_list:\n",
        "          inter_loss = interactive_loss(output, GT_density, inter_mask)\n",
        "          #inter_loss /= len(inter_mask_list)\n",
        "          #inter_loss = criterion((output * inter_mask).sum(), (gt_density * inter_mask).sum())\n",
        "          if torch.is_tensor(inter_loss):\n",
        "              inter_loss.backward()\n",
        "              optimizer_inter.step()\n",
        "        \n",
        "        '''\n",
        "        Final Test it\n",
        "        '''\n",
        "        #with torch.set_grad_enabled(False):\n",
        "        outputs, _ = adapted_model(inputs)\n",
        "        img_err = count[0].item() - torch.sum(outputs).item()\n",
        "      #print(name, img_err, count[0].item(), torch.sum(outputs).item())\n",
        "      #image_errs.append(img_err)\n",
        "        Inter_result[inter_time].append(img_err)\n",
        "  for inter_time in range(INTER_TIMES):\n",
        "    image_errs = Inter_result[inter_time]\n",
        "    image_errs = np.array(image_errs)\n",
        "    mse = np.sqrt(np.mean(np.square(image_errs)))\n",
        "    mae = np.mean(np.abs(image_errs))\n",
        "    print('{}: mae {}, mse {}\\n'.format(model_path, mae, mse))\n",
        "\n",
        "INGS = 50\n",
        "INLR = 1e-8\n",
        "INTER_TIMES = 5\n",
        "#for INTER_TIMES in [0, 1, 2, 3, 4, 5]:\n",
        "#for INGS in [20, 25, 30]:\n",
        "#  for INLR in [1e-8, 5e-8, 1e-7]:\n",
        "#    print('############################################################')\n",
        "#    print('GS: ', INGS, 'LR: ', INLR)\n",
        "adapted_test()\n",
        "#59.7 95.7\n",
        "#Not that much improve since the downsampling \n",
        "#Different hyper parameters\n",
        "#Not that genalize"
      ],
      "execution_count": null,
      "outputs": [
        {
          "output_type": "stream",
          "name": "stderr",
          "text": [
            "/usr/local/lib/python3.7/dist-packages/torch/nn/functional.py:3825: UserWarning: nn.functional.upsample_bilinear is deprecated. Use nn.functional.interpolate instead.\n",
            "  warnings.warn(\"nn.functional.upsample_bilinear is deprecated. Use nn.functional.interpolate instead.\")\n",
            "/usr/local/lib/python3.7/dist-packages/torch/nn/functional.py:3613: UserWarning: Default upsampling behavior when mode=bilinear is changed to align_corners=False since 0.4.0. Please specify align_corners=True if the old behavior is desired. See the documentation of nn.Upsample for details.\n",
            "  \"See the documentation of nn.Upsample for details.\".format(mode)\n"
          ]
        },
        {
          "output_type": "stream",
          "name": "stdout",
          "text": [
            "./data/model_sh_B.pth: mae 7.179280917855758, mse 11.506957343797616\n",
            "\n",
            "./data/model_sh_B.pth: mae 7.133365612995775, mse 11.437528039440824\n",
            "\n",
            "./data/model_sh_B.pth: mae 7.076515037802201, mse 11.219798596830326\n",
            "\n",
            "./data/model_sh_B.pth: mae 7.135177944279924, mse 11.386447050160156\n",
            "\n",
            "./data/model_sh_B.pth: mae 7.160793591149246, mse 11.51771224063004\n",
            "\n"
          ]
        }
      ]
    }
  ]
}