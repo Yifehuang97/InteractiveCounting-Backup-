{
  "nbformat": 4,
  "nbformat_minor": 0,
  "metadata": {
    "colab": {
      "name": "Shanghai Tech A Scheme 2",
      "provenance": [],
      "collapsed_sections": []
    },
    "kernelspec": {
      "name": "python3",
      "display_name": "Python 3"
    },
    "language_info": {
      "name": "python"
    },
    "accelerator": "GPU",
    "widgets": {
      "application/vnd.jupyter.widget-state+json": {
        "f761478e20e04bdbb6f1d263f71f560d": {
          "model_module": "@jupyter-widgets/controls",
          "model_name": "HBoxModel",
          "model_module_version": "1.5.0",
          "state": {
            "_view_name": "HBoxView",
            "_dom_classes": [],
            "_model_name": "HBoxModel",
            "_view_module": "@jupyter-widgets/controls",
            "_model_module_version": "1.5.0",
            "_view_count": null,
            "_view_module_version": "1.5.0",
            "box_style": "",
            "layout": "IPY_MODEL_c003672c35c04224869c6eb5a4a1b9ab",
            "_model_module": "@jupyter-widgets/controls",
            "children": [
              "IPY_MODEL_aa94a467950742f0b6790d2e5927081b",
              "IPY_MODEL_89d4ed542a6841f4867249949a51be59",
              "IPY_MODEL_ae240cac793640adba865357ae94818e"
            ]
          }
        },
        "c003672c35c04224869c6eb5a4a1b9ab": {
          "model_module": "@jupyter-widgets/base",
          "model_name": "LayoutModel",
          "model_module_version": "1.2.0",
          "state": {
            "_view_name": "LayoutView",
            "grid_template_rows": null,
            "right": null,
            "justify_content": null,
            "_view_module": "@jupyter-widgets/base",
            "overflow": null,
            "_model_module_version": "1.2.0",
            "_view_count": null,
            "flex_flow": null,
            "width": null,
            "min_width": null,
            "border": null,
            "align_items": null,
            "bottom": null,
            "_model_module": "@jupyter-widgets/base",
            "top": null,
            "grid_column": null,
            "overflow_y": null,
            "overflow_x": null,
            "grid_auto_flow": null,
            "grid_area": null,
            "grid_template_columns": null,
            "flex": null,
            "_model_name": "LayoutModel",
            "justify_items": null,
            "grid_row": null,
            "max_height": null,
            "align_content": null,
            "visibility": null,
            "align_self": null,
            "height": null,
            "min_height": null,
            "padding": null,
            "grid_auto_rows": null,
            "grid_gap": null,
            "max_width": null,
            "order": null,
            "_view_module_version": "1.2.0",
            "grid_template_areas": null,
            "object_position": null,
            "object_fit": null,
            "grid_auto_columns": null,
            "margin": null,
            "display": null,
            "left": null
          }
        },
        "aa94a467950742f0b6790d2e5927081b": {
          "model_module": "@jupyter-widgets/controls",
          "model_name": "HTMLModel",
          "model_module_version": "1.5.0",
          "state": {
            "_view_name": "HTMLView",
            "style": "IPY_MODEL_6b2d74fbfa8a45ffb9757e841440f5d6",
            "_dom_classes": [],
            "description": "",
            "_model_name": "HTMLModel",
            "placeholder": "​",
            "_view_module": "@jupyter-widgets/controls",
            "_model_module_version": "1.5.0",
            "value": "100%",
            "_view_count": null,
            "_view_module_version": "1.5.0",
            "description_tooltip": null,
            "_model_module": "@jupyter-widgets/controls",
            "layout": "IPY_MODEL_d29adbfb4b524ec598076bb4987c580b"
          }
        },
        "89d4ed542a6841f4867249949a51be59": {
          "model_module": "@jupyter-widgets/controls",
          "model_name": "FloatProgressModel",
          "model_module_version": "1.5.0",
          "state": {
            "_view_name": "ProgressView",
            "style": "IPY_MODEL_91b9c65e70f0441bba81ee80d152fdd3",
            "_dom_classes": [],
            "description": "",
            "_model_name": "FloatProgressModel",
            "bar_style": "success",
            "max": 574673361,
            "_view_module": "@jupyter-widgets/controls",
            "_model_module_version": "1.5.0",
            "value": 574673361,
            "_view_count": null,
            "_view_module_version": "1.5.0",
            "orientation": "horizontal",
            "min": 0,
            "description_tooltip": null,
            "_model_module": "@jupyter-widgets/controls",
            "layout": "IPY_MODEL_fb92fc2a333d41f9a000eeb8551450a1"
          }
        },
        "ae240cac793640adba865357ae94818e": {
          "model_module": "@jupyter-widgets/controls",
          "model_name": "HTMLModel",
          "model_module_version": "1.5.0",
          "state": {
            "_view_name": "HTMLView",
            "style": "IPY_MODEL_61289585fd29458b9d1dfc90cb90fda3",
            "_dom_classes": [],
            "description": "",
            "_model_name": "HTMLModel",
            "placeholder": "​",
            "_view_module": "@jupyter-widgets/controls",
            "_model_module_version": "1.5.0",
            "value": " 548M/548M [00:12&lt;00:00, 50.5MB/s]",
            "_view_count": null,
            "_view_module_version": "1.5.0",
            "description_tooltip": null,
            "_model_module": "@jupyter-widgets/controls",
            "layout": "IPY_MODEL_e4e8355a63124c3aa4f75c3d1ae499ac"
          }
        },
        "6b2d74fbfa8a45ffb9757e841440f5d6": {
          "model_module": "@jupyter-widgets/controls",
          "model_name": "DescriptionStyleModel",
          "model_module_version": "1.5.0",
          "state": {
            "_view_name": "StyleView",
            "_model_name": "DescriptionStyleModel",
            "description_width": "",
            "_view_module": "@jupyter-widgets/base",
            "_model_module_version": "1.5.0",
            "_view_count": null,
            "_view_module_version": "1.2.0",
            "_model_module": "@jupyter-widgets/controls"
          }
        },
        "d29adbfb4b524ec598076bb4987c580b": {
          "model_module": "@jupyter-widgets/base",
          "model_name": "LayoutModel",
          "model_module_version": "1.2.0",
          "state": {
            "_view_name": "LayoutView",
            "grid_template_rows": null,
            "right": null,
            "justify_content": null,
            "_view_module": "@jupyter-widgets/base",
            "overflow": null,
            "_model_module_version": "1.2.0",
            "_view_count": null,
            "flex_flow": null,
            "width": null,
            "min_width": null,
            "border": null,
            "align_items": null,
            "bottom": null,
            "_model_module": "@jupyter-widgets/base",
            "top": null,
            "grid_column": null,
            "overflow_y": null,
            "overflow_x": null,
            "grid_auto_flow": null,
            "grid_area": null,
            "grid_template_columns": null,
            "flex": null,
            "_model_name": "LayoutModel",
            "justify_items": null,
            "grid_row": null,
            "max_height": null,
            "align_content": null,
            "visibility": null,
            "align_self": null,
            "height": null,
            "min_height": null,
            "padding": null,
            "grid_auto_rows": null,
            "grid_gap": null,
            "max_width": null,
            "order": null,
            "_view_module_version": "1.2.0",
            "grid_template_areas": null,
            "object_position": null,
            "object_fit": null,
            "grid_auto_columns": null,
            "margin": null,
            "display": null,
            "left": null
          }
        },
        "91b9c65e70f0441bba81ee80d152fdd3": {
          "model_module": "@jupyter-widgets/controls",
          "model_name": "ProgressStyleModel",
          "model_module_version": "1.5.0",
          "state": {
            "_view_name": "StyleView",
            "_model_name": "ProgressStyleModel",
            "description_width": "",
            "_view_module": "@jupyter-widgets/base",
            "_model_module_version": "1.5.0",
            "_view_count": null,
            "_view_module_version": "1.2.0",
            "bar_color": null,
            "_model_module": "@jupyter-widgets/controls"
          }
        },
        "fb92fc2a333d41f9a000eeb8551450a1": {
          "model_module": "@jupyter-widgets/base",
          "model_name": "LayoutModel",
          "model_module_version": "1.2.0",
          "state": {
            "_view_name": "LayoutView",
            "grid_template_rows": null,
            "right": null,
            "justify_content": null,
            "_view_module": "@jupyter-widgets/base",
            "overflow": null,
            "_model_module_version": "1.2.0",
            "_view_count": null,
            "flex_flow": null,
            "width": null,
            "min_width": null,
            "border": null,
            "align_items": null,
            "bottom": null,
            "_model_module": "@jupyter-widgets/base",
            "top": null,
            "grid_column": null,
            "overflow_y": null,
            "overflow_x": null,
            "grid_auto_flow": null,
            "grid_area": null,
            "grid_template_columns": null,
            "flex": null,
            "_model_name": "LayoutModel",
            "justify_items": null,
            "grid_row": null,
            "max_height": null,
            "align_content": null,
            "visibility": null,
            "align_self": null,
            "height": null,
            "min_height": null,
            "padding": null,
            "grid_auto_rows": null,
            "grid_gap": null,
            "max_width": null,
            "order": null,
            "_view_module_version": "1.2.0",
            "grid_template_areas": null,
            "object_position": null,
            "object_fit": null,
            "grid_auto_columns": null,
            "margin": null,
            "display": null,
            "left": null
          }
        },
        "61289585fd29458b9d1dfc90cb90fda3": {
          "model_module": "@jupyter-widgets/controls",
          "model_name": "DescriptionStyleModel",
          "model_module_version": "1.5.0",
          "state": {
            "_view_name": "StyleView",
            "_model_name": "DescriptionStyleModel",
            "description_width": "",
            "_view_module": "@jupyter-widgets/base",
            "_model_module_version": "1.5.0",
            "_view_count": null,
            "_view_module_version": "1.2.0",
            "_model_module": "@jupyter-widgets/controls"
          }
        },
        "e4e8355a63124c3aa4f75c3d1ae499ac": {
          "model_module": "@jupyter-widgets/base",
          "model_name": "LayoutModel",
          "model_module_version": "1.2.0",
          "state": {
            "_view_name": "LayoutView",
            "grid_template_rows": null,
            "right": null,
            "justify_content": null,
            "_view_module": "@jupyter-widgets/base",
            "overflow": null,
            "_model_module_version": "1.2.0",
            "_view_count": null,
            "flex_flow": null,
            "width": null,
            "min_width": null,
            "border": null,
            "align_items": null,
            "bottom": null,
            "_model_module": "@jupyter-widgets/base",
            "top": null,
            "grid_column": null,
            "overflow_y": null,
            "overflow_x": null,
            "grid_auto_flow": null,
            "grid_area": null,
            "grid_template_columns": null,
            "flex": null,
            "_model_name": "LayoutModel",
            "justify_items": null,
            "grid_row": null,
            "max_height": null,
            "align_content": null,
            "visibility": null,
            "align_self": null,
            "height": null,
            "min_height": null,
            "padding": null,
            "grid_auto_rows": null,
            "grid_gap": null,
            "max_width": null,
            "order": null,
            "_view_module_version": "1.2.0",
            "grid_template_areas": null,
            "object_position": null,
            "object_fit": null,
            "grid_auto_columns": null,
            "margin": null,
            "display": null,
            "left": null
          }
        }
      }
    }
  },
  "cells": [
    {
      "cell_type": "code",
      "metadata": {
        "colab": {
          "base_uri": "https://localhost:8080/"
        },
        "id": "az4j5ANp-kAU",
        "outputId": "dff1bcc8-0b24-42dc-b15c-236589b820ce"
      },
      "source": [
        "!/opt/bin/nvidia-smi"
      ],
      "execution_count": null,
      "outputs": [
        {
          "output_type": "stream",
          "name": "stdout",
          "text": [
            "Tue Oct 26 20:22:31 2021       \n",
            "+-----------------------------------------------------------------------------+\n",
            "| NVIDIA-SMI 460.32.03    Driver Version: 460.32.03    CUDA Version: 11.2     |\n",
            "|-------------------------------+----------------------+----------------------+\n",
            "| GPU  Name        Persistence-M| Bus-Id        Disp.A | Volatile Uncorr. ECC |\n",
            "| Fan  Temp  Perf  Pwr:Usage/Cap|         Memory-Usage | GPU-Util  Compute M. |\n",
            "|                               |                      |               MIG M. |\n",
            "|===============================+======================+======================|\n",
            "|   0  Tesla V100-SXM2...  Off  | 00000000:00:04.0 Off |                    0 |\n",
            "| N/A   44C    P0    26W / 300W |      0MiB / 16160MiB |      0%      Default |\n",
            "|                               |                      |                  N/A |\n",
            "+-------------------------------+----------------------+----------------------+\n",
            "                                                                               \n",
            "+-----------------------------------------------------------------------------+\n",
            "| Processes:                                                                  |\n",
            "|  GPU   GI   CI        PID   Type   Process name                  GPU Memory |\n",
            "|        ID   ID                                                   Usage      |\n",
            "|=============================================================================|\n",
            "|  No running processes found                                                 |\n",
            "+-----------------------------------------------------------------------------+\n"
          ]
        }
      ]
    },
    {
      "cell_type": "code",
      "metadata": {
        "colab": {
          "base_uri": "https://localhost:8080/"
        },
        "id": "g-3oWFNw_xGG",
        "outputId": "1af574ce-cb2b-4999-aa11-f55c44bd9f48"
      },
      "source": [
        "import os\n",
        "from google.colab import drive\n",
        "drive.mount('/content/gdrive')"
      ],
      "execution_count": null,
      "outputs": [
        {
          "output_type": "stream",
          "name": "stdout",
          "text": [
            "Mounted at /content/gdrive\n"
          ]
        }
      ]
    },
    {
      "cell_type": "code",
      "metadata": {
        "id": "T2aC2h0IAONJ"
      },
      "source": [
        "os.chdir('/content/gdrive/My Drive/Shanghai/')"
      ],
      "execution_count": null,
      "outputs": []
    },
    {
      "cell_type": "code",
      "metadata": {
        "id": "JXfDAJQFAWVZ"
      },
      "source": [
        "import argparse\n",
        "import torch\n",
        "import os\n",
        "import numpy as np\n",
        "import datasets.crowd as crowd\n",
        "from models import vgg19"
      ],
      "execution_count": null,
      "outputs": []
    },
    {
      "cell_type": "code",
      "metadata": {
        "colab": {
          "base_uri": "https://localhost:8080/"
        },
        "id": "Wg6r3viFBzjn",
        "outputId": "b5fefc23-795c-4b7a-bcef-8e3afa318233"
      },
      "source": [
        "device = 0\n",
        "crop_size = 512\n",
        "model_path = './data/model_sh_A.pth'\n",
        "data_path = './data/ShanghaiTech/part_A/'\n",
        "dataset = 'shb'\n",
        "os.environ['CUDA_VISIBLE_DEVICES'] = '0'\n",
        "device = torch.device('cuda')\n",
        "dataset = crowd.Crowd_sh(os.path.join(data_path, 'test_data'), crop_size, 8, method='val')\n",
        "dataloader = torch.utils.data.DataLoader(dataset, 1, shuffle=False,\n",
        "                                         num_workers=1, pin_memory=True)"
      ],
      "execution_count": null,
      "outputs": [
        {
          "output_type": "stream",
          "name": "stdout",
          "text": [
            "number of img: 182\n"
          ]
        }
      ]
    },
    {
      "cell_type": "code",
      "metadata": {
        "colab": {
          "base_uri": "https://localhost:8080/",
          "height": 66,
          "referenced_widgets": [
            "f761478e20e04bdbb6f1d263f71f560d",
            "c003672c35c04224869c6eb5a4a1b9ab",
            "aa94a467950742f0b6790d2e5927081b",
            "89d4ed542a6841f4867249949a51be59",
            "ae240cac793640adba865357ae94818e",
            "6b2d74fbfa8a45ffb9757e841440f5d6",
            "d29adbfb4b524ec598076bb4987c580b",
            "91b9c65e70f0441bba81ee80d152fdd3",
            "fb92fc2a333d41f9a000eeb8551450a1",
            "61289585fd29458b9d1dfc90cb90fda3",
            "e4e8355a63124c3aa4f75c3d1ae499ac"
          ]
        },
        "id": "mH4xxiPwC3mA",
        "outputId": "d3152c7d-b71c-413b-b7ad-b755312eccb1"
      },
      "source": [
        "model = vgg19()\n",
        "model.to(device)\n",
        "model.load_state_dict(torch.load(model_path, device))\n",
        "model.eval()\n",
        "image_errs = []"
      ],
      "execution_count": null,
      "outputs": [
        {
          "output_type": "stream",
          "name": "stderr",
          "text": [
            "Downloading: \"https://download.pytorch.org/models/vgg19-dcbb9e9d.pth\" to /root/.cache/torch/hub/checkpoints/vgg19-dcbb9e9d.pth\n"
          ]
        },
        {
          "output_type": "display_data",
          "data": {
            "application/vnd.jupyter.widget-view+json": {
              "model_id": "f761478e20e04bdbb6f1d263f71f560d",
              "version_minor": 0,
              "version_major": 2
            },
            "text/plain": [
              "  0%|          | 0.00/548M [00:00<?, ?B/s]"
            ]
          },
          "metadata": {}
        }
      ]
    },
    {
      "cell_type": "code",
      "metadata": {
        "id": "ThsnxvgVFeNA"
      },
      "source": [
        "def interactive_loss(density, gt_density, mask, count_limit = 4):\n",
        "    density = density * mask\n",
        "    gt_density = gt_density * mask\n",
        "    if gt_density.sum() >= count_limit:\n",
        "        loss = max(0, count_limit - density.sum())\n",
        "    else:\n",
        "        loss = max(0, gt_density.sum() - density.sum()) + max(0, density.sum() - gt_density.sum())\n",
        "    return loss\n",
        "\n",
        "def sample_pixel(label):\n",
        "  height, width = label.shape\n",
        "  y = random.randint(0, height - 1)\n",
        "  x = random.randint(0, width - 1)\n",
        "  return y,x\n",
        "\n",
        "def random_region_sample(label):\n",
        "  max_label = np.max(label) + 1\n",
        "  random_label = np.random.randint(0, int(max_label))\n",
        "  return random_label\n",
        "\n",
        "def error_region_sample(label, density, gt_density):\n",
        "  max_label = np.max(label) + 1\n",
        "  max_error = 0\n",
        "  final_sample_label = None\n",
        "  #For all region, calculate the loss\n",
        "  for sample_label in range(max_label):\n",
        "    #The Mask\n",
        "    inter_mask = np.zeros((label.shape[0], label.shape[1]), dtype=np.uint8)\n",
        "    inter_mask[label == sample_label] = 1\n",
        "    inter_mask = torch.from_numpy(inter_mask).to(device)\n",
        "    #Error\n",
        "    inter_error = interactive_loss(density, gt_density, inter_mask)\n",
        "    #Max error\n",
        "    if max_error < inter_error:\n",
        "      max_error = inter_error\n",
        "      final_sample_label = sample_label\n",
        "  return final_sample_label"
      ],
      "execution_count": null,
      "outputs": []
    },
    {
      "cell_type": "markdown",
      "metadata": {
        "id": "sAN5cNYaSRjL"
      },
      "source": [
        "#Random"
      ]
    },
    {
      "cell_type": "code",
      "metadata": {
        "colab": {
          "base_uri": "https://localhost:8080/"
        },
        "id": "mMPNNpEBIVWm",
        "outputId": "d1f31e7e-5cb4-4cc0-fa98-4eef7b51ecfb"
      },
      "source": [
        "import copy\n",
        "import scipy.io as sio\n",
        "import torch.optim as optim\n",
        "from region_sum_less_4 import VIS\n",
        "import torch.nn.functional as F\n",
        "image_errs = []\n",
        "mat_path = './data/ShanghaiTech/part_A/test_data/ground-truth/'\n",
        "INTER_TIMES = 1\n",
        "INGS = 20\n",
        "INLR = 5e-8\n",
        "Inter_result = [[], [], [], [], []]\n",
        "def adapted_test():\n",
        "  image_errs = []\n",
        "  for inputs, count, name in dataloader:\n",
        "      inputs = inputs.to(device)\n",
        "\n",
        "      #Get GT_density(Same Size with output)\n",
        "      density_path = 'GT_' + name[0] + '.mat'\n",
        "      density_path = os.path.join(mat_path, density_path)\n",
        "      keypoints = sio.loadmat(density_path)['image_info'][0][0][0][0][0]\n",
        "      outputs, _ = model(inputs)\n",
        "      density = outputs.squeeze()\n",
        "      h, w = density.shape[0], density.shape[1]\n",
        "      GT_density = np.zeros((h, w))\n",
        "      for i in range(keypoints.shape[0]):\n",
        "        x, y = min(int(np.rint(keypoints[i][0] / 8)), w - 1), min(int(np.rint(keypoints[i][1] / 8)), h - 1)\n",
        "        GT_density[y][x] += 1\n",
        "\n",
        "      assert GT_density.sum() == count[0].item()\n",
        "      GT_density = torch.from_numpy(GT_density).to(device)    \n",
        "      adapted_model = copy.deepcopy(model)\n",
        "      adapted_model.train()\n",
        "      '''\n",
        "      Start Interaction\n",
        "      '''\n",
        "      inter_mask_list = []\n",
        "      for inter_time in range(INTER_TIMES):\n",
        "        \n",
        "        assert inputs.size(0) == 1, 'the batch size should equal to 1'\n",
        "        outputs, _ = adapted_model(inputs)\n",
        "\n",
        "        #Vis\n",
        "        density = outputs.squeeze().detach().cpu().numpy()\n",
        "        visual = VIS(density)\n",
        "        visual.solve()\n",
        "        label = visual.Llabel\n",
        "        \n",
        "        #Sample Region Randomly\n",
        "        sample_label = random_region_sample(label)\n",
        "\n",
        "        #Get Mask\n",
        "        inter_mask = np.zeros((label.shape[0], label.shape[1]), dtype=np.uint8)\n",
        "        inter_mask[label == sample_label] = 1\n",
        "        inter_mask = torch.from_numpy(inter_mask).to(device)\n",
        "        inter_mask_list.append(inter_mask)\n",
        "        optimizer_inter = optim.Adam(adapted_model.parameters(), lr=INLR)\n",
        "        for step in range(0, INGS):\n",
        "          #Inter Opti\n",
        "          optimizer_inter.zero_grad()\n",
        "          output, _ = adapted_model(inputs)\n",
        "          #inter_loss = 0\n",
        "          #Scheme 3\n",
        "          #for inmask in inter_mask_list:\n",
        "          inter_loss = interactive_loss(output, GT_density, inter_mask)\n",
        "          #inter_loss = criterion((output * inter_mask).sum(), (gt_density * inter_mask).sum())\n",
        "          if torch.is_tensor(inter_loss):\n",
        "              inter_loss.backward()\n",
        "              optimizer_inter.step()\n",
        "        \n",
        "        '''\n",
        "        Final Test it\n",
        "        '''\n",
        "        #with torch.set_grad_enabled(False):\n",
        "        outputs, _ = adapted_model(inputs)\n",
        "        img_err = count[0].item() - torch.sum(outputs).item()\n",
        "      #print(name, img_err, count[0].item(), torch.sum(outputs).item())\n",
        "      #image_errs.append(img_err)\n",
        "        Inter_result[inter_time].append(img_err)\n",
        "  for inter_time in range(INTER_TIMES):\n",
        "    image_errs = Inter_result[inter_time]\n",
        "    image_errs = np.array(image_errs)\n",
        "    mse = np.sqrt(np.mean(np.square(image_errs)))\n",
        "    mae = np.mean(np.abs(image_errs))\n",
        "    print('{}: mae {}, mse {}\\n'.format(model_path, mae, mse))\n",
        "\n",
        "INGS = 50\n",
        "INLR = 1e-8\n",
        "INTER_TIMES = 5\n",
        "#for INTER_TIMES in [0, 1, 2, 3, 4, 5]:\n",
        "#for INGS in [20, 25, 30]:\n",
        "#  for INLR in [1e-8, 5e-8, 1e-7]:\n",
        "#    print('############################################################')\n",
        "#    print('GS: ', INGS, 'LR: ', INLR)\n",
        "adapted_test()\n",
        "#59.7 95.7\n",
        "#Not that much improve since the downsampling \n",
        "#Different hyper parameters\n",
        "#Not that genalize"
      ],
      "execution_count": null,
      "outputs": [
        {
          "metadata": {
            "tags": null
          },
          "name": "stderr",
          "output_type": "stream",
          "text": [
            "/usr/local/lib/python3.7/dist-packages/torch/nn/functional.py:3825: UserWarning: nn.functional.upsample_bilinear is deprecated. Use nn.functional.interpolate instead.\n",
            "  warnings.warn(\"nn.functional.upsample_bilinear is deprecated. Use nn.functional.interpolate instead.\")\n",
            "/usr/local/lib/python3.7/dist-packages/torch/nn/functional.py:3613: UserWarning: Default upsampling behavior when mode=bilinear is changed to align_corners=False since 0.4.0. Please specify align_corners=True if the old behavior is desired. See the documentation of nn.Upsample for details.\n",
            "  \"See the documentation of nn.Upsample for details.\".format(mode)\n"
          ]
        },
        {
          "output_type": "stream",
          "name": "stdout",
          "text": [
            "./data/model_sh_A.pth: mae 59.20691517421177, mse 95.10053790655134\n",
            "\n",
            "./data/model_sh_A.pth: mae 59.19442577152462, mse 95.38876143883138\n",
            "\n",
            "./data/model_sh_A.pth: mae 58.727879367031896, mse 95.06954345734717\n",
            "\n",
            "./data/model_sh_A.pth: mae 58.71644806075882, mse 94.99018452969992\n",
            "\n",
            "./data/model_sh_A.pth: mae 58.06925520006117, mse 93.80926680374888\n",
            "\n"
          ]
        }
      ]
    },
    {
      "cell_type": "markdown",
      "metadata": {
        "id": "QfqD5dSTSdnS"
      },
      "source": [
        "#Error"
      ]
    },
    {
      "cell_type": "code",
      "metadata": {
        "colab": {
          "base_uri": "https://localhost:8080/"
        },
        "id": "VfA9UvQlSepr",
        "outputId": "0bd85778-5083-4100-a5a6-4d6e1f16e7b3"
      },
      "source": [
        "import copy\n",
        "import scipy.io as sio\n",
        "import torch.optim as optim\n",
        "from region_sum_less_4 import VIS\n",
        "import torch.nn.functional as F\n",
        "image_errs = []\n",
        "mat_path = './data/ShanghaiTech/part_A/test_data/ground-truth/'\n",
        "INTER_TIMES = 1\n",
        "INGS = 20\n",
        "INLR = 5e-8\n",
        "Inter_result = [[], [], [], [], []]\n",
        "def adapted_test():\n",
        "  image_errs = []\n",
        "  for inputs, count, name in dataloader:\n",
        "      inputs = inputs.to(device)\n",
        "\n",
        "      #Get GT_density(Same Size with output)\n",
        "      density_path = 'GT_' + name[0] + '.mat'\n",
        "      density_path = os.path.join(mat_path, density_path)\n",
        "      keypoints = sio.loadmat(density_path)['image_info'][0][0][0][0][0]\n",
        "      outputs, _ = model(inputs)\n",
        "      density = outputs.squeeze()\n",
        "      h, w = density.shape[0], density.shape[1]\n",
        "      GT_density = np.zeros((h, w))\n",
        "      for i in range(keypoints.shape[0]):\n",
        "        x, y = min(int(np.rint(keypoints[i][0] / 8)), w - 1), min(int(np.rint(keypoints[i][1] / 8)), h - 1)\n",
        "        GT_density[y][x] += 1\n",
        "\n",
        "      assert GT_density.sum() == count[0].item()\n",
        "      GT_density = torch.from_numpy(GT_density).to(device)    \n",
        "      adapted_model = copy.deepcopy(model)\n",
        "      adapted_model.train()\n",
        "      '''\n",
        "      Start Interaction\n",
        "      '''\n",
        "      inter_mask_list = []\n",
        "      for inter_time in range(INTER_TIMES):\n",
        "        \n",
        "        assert inputs.size(0) == 1, 'the batch size should equal to 1'\n",
        "        outputs, _ = adapted_model(inputs)\n",
        "\n",
        "        #Vis\n",
        "        density = outputs.squeeze().detach().cpu().numpy()\n",
        "        visual = VIS(density)\n",
        "        visual.solve()\n",
        "        label = visual.Llabel\n",
        "        \n",
        "        #Sample Region Randomly\n",
        "        #sample_label = random_region_sample(label)\n",
        "        sample_label = error_region_sample(label, outputs.squeeze(), GT_density)\n",
        "        #Get Mask\n",
        "        inter_mask = np.zeros((label.shape[0], label.shape[1]), dtype=np.uint8)\n",
        "        inter_mask[label == sample_label] = 1\n",
        "        inter_mask = torch.from_numpy(inter_mask).to(device)\n",
        "        inter_mask_list.append(inter_mask)\n",
        "        optimizer_inter = optim.Adam(adapted_model.parameters(), lr=INLR)\n",
        "        for step in range(0, INGS):\n",
        "          #Inter Opti\n",
        "          optimizer_inter.zero_grad()\n",
        "          output, _ = adapted_model(inputs)\n",
        "          #inter_loss = 0\n",
        "          #Scheme 3\n",
        "          #for inmask in inter_mask_list:\n",
        "          inter_loss = interactive_loss(output, GT_density, inter_mask)\n",
        "          #inter_loss /= len(inter_mask_list)\n",
        "          #inter_loss = criterion((output * inter_mask).sum(), (gt_density * inter_mask).sum())\n",
        "          if torch.is_tensor(inter_loss):\n",
        "              inter_loss.backward()\n",
        "              optimizer_inter.step()\n",
        "        \n",
        "        '''\n",
        "        Final Test it\n",
        "        '''\n",
        "        #with torch.set_grad_enabled(False):\n",
        "        outputs, _ = adapted_model(inputs)\n",
        "        img_err = count[0].item() - torch.sum(outputs).item()\n",
        "      #print(name, img_err, count[0].item(), torch.sum(outputs).item())\n",
        "      #image_errs.append(img_err)\n",
        "        Inter_result[inter_time].append(img_err)\n",
        "  for inter_time in range(INTER_TIMES):\n",
        "    image_errs = Inter_result[inter_time]\n",
        "    image_errs = np.array(image_errs)\n",
        "    mse = np.sqrt(np.mean(np.square(image_errs)))\n",
        "    mae = np.mean(np.abs(image_errs))\n",
        "    print('{}: mae {}, mse {}\\n'.format(model_path, mae, mse))\n",
        "\n",
        "INGS = 50\n",
        "INLR = 1e-8\n",
        "INTER_TIMES = 5\n",
        "#for INTER_TIMES in [0, 1, 2, 3, 4, 5]:\n",
        "#for INGS in [20, 25, 30]:\n",
        "#  for INLR in [1e-8, 5e-8, 1e-7]:\n",
        "#    print('############################################################')\n",
        "#    print('GS: ', INGS, 'LR: ', INLR)\n",
        "adapted_test()\n",
        "#59.7 95.7\n",
        "#Not that much improve since the downsampling \n",
        "#Different hyper parameters\n",
        "#Not that genalize"
      ],
      "execution_count": null,
      "outputs": [
        {
          "output_type": "stream",
          "name": "stderr",
          "text": [
            "/usr/local/lib/python3.7/dist-packages/torch/nn/functional.py:3825: UserWarning: nn.functional.upsample_bilinear is deprecated. Use nn.functional.interpolate instead.\n",
            "  warnings.warn(\"nn.functional.upsample_bilinear is deprecated. Use nn.functional.interpolate instead.\")\n",
            "/usr/local/lib/python3.7/dist-packages/torch/nn/functional.py:3613: UserWarning: Default upsampling behavior when mode=bilinear is changed to align_corners=False since 0.4.0. Please specify align_corners=True if the old behavior is desired. See the documentation of nn.Upsample for details.\n",
            "  \"See the documentation of nn.Upsample for details.\".format(mode)\n"
          ]
        },
        {
          "output_type": "stream",
          "name": "stdout",
          "text": [
            "./data/model_sh_A.pth: mae 58.35458872868465, mse 94.68370171615837\n",
            "\n",
            "./data/model_sh_A.pth: mae 57.18838347969474, mse 94.10453582516986\n",
            "\n",
            "./data/model_sh_A.pth: mae 56.35679307874742, mse 93.73749719700808\n",
            "\n",
            "./data/model_sh_A.pth: mae 56.22802231337998, mse 93.71157826572262\n",
            "\n",
            "./data/model_sh_A.pth: mae 56.437956317440495, mse 94.07145134166836\n",
            "\n"
          ]
        }
      ]
    }
  ]
}